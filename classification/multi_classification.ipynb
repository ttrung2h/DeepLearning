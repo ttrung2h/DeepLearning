{
 "cells": [
  {
   "cell_type": "code",
   "execution_count": 1,
   "metadata": {},
   "outputs": [],
   "source": [
    "import pandas as pd\n",
    "import numpy as np\n",
    "import torch \n",
    "import torch.nn as nn\n",
    "import torchmetrics"
   ]
  },
  {
   "cell_type": "code",
   "execution_count": 2,
   "metadata": {},
   "outputs": [
    {
     "data": {
      "text/html": [
       "<div>\n",
       "<style scoped>\n",
       "    .dataframe tbody tr th:only-of-type {\n",
       "        vertical-align: middle;\n",
       "    }\n",
       "\n",
       "    .dataframe tbody tr th {\n",
       "        vertical-align: top;\n",
       "    }\n",
       "\n",
       "    .dataframe thead th {\n",
       "        text-align: right;\n",
       "    }\n",
       "</style>\n",
       "<table border=\"1\" class=\"dataframe\">\n",
       "  <thead>\n",
       "    <tr style=\"text-align: right;\">\n",
       "      <th></th>\n",
       "      <th>obj_ID</th>\n",
       "      <th>alpha</th>\n",
       "      <th>delta</th>\n",
       "      <th>u</th>\n",
       "      <th>g</th>\n",
       "      <th>r</th>\n",
       "      <th>i</th>\n",
       "      <th>z</th>\n",
       "      <th>run_ID</th>\n",
       "      <th>rerun_ID</th>\n",
       "      <th>cam_col</th>\n",
       "      <th>field_ID</th>\n",
       "      <th>spec_obj_ID</th>\n",
       "      <th>class</th>\n",
       "      <th>redshift</th>\n",
       "      <th>plate</th>\n",
       "      <th>MJD</th>\n",
       "      <th>fiber_ID</th>\n",
       "    </tr>\n",
       "  </thead>\n",
       "  <tbody>\n",
       "    <tr>\n",
       "      <th>0</th>\n",
       "      <td>1.842794</td>\n",
       "      <td>1.678562</td>\n",
       "      <td>-0.189957</td>\n",
       "      <td>0.730051</td>\n",
       "      <td>1.412983</td>\n",
       "      <td>0.900283</td>\n",
       "      <td>0.608321</td>\n",
       "      <td>0.358271</td>\n",
       "      <td>1.842820</td>\n",
       "      <td>0.0</td>\n",
       "      <td>-0.331467</td>\n",
       "      <td>-0.503193</td>\n",
       "      <td>-0.074397</td>\n",
       "      <td>1</td>\n",
       "      <td>1.208208</td>\n",
       "      <td>-0.074421</td>\n",
       "      <td>0.109142</td>\n",
       "      <td>1.071997</td>\n",
       "    </tr>\n",
       "    <tr>\n",
       "      <th>1</th>\n",
       "      <td>1.675764</td>\n",
       "      <td>-1.582285</td>\n",
       "      <td>-0.653837</td>\n",
       "      <td>-0.181271</td>\n",
       "      <td>0.330100</td>\n",
       "      <td>0.684916</td>\n",
       "      <td>0.809094</td>\n",
       "      <td>0.849514</td>\n",
       "      <td>1.675851</td>\n",
       "      <td>0.0</td>\n",
       "      <td>-0.960351</td>\n",
       "      <td>1.894562</td>\n",
       "      <td>1.951910</td>\n",
       "      <td>1</td>\n",
       "      <td>-0.004177</td>\n",
       "      <td>1.951948</td>\n",
       "      <td>1.551299</td>\n",
       "      <td>-1.233386</td>\n",
       "    </tr>\n",
       "    <tr>\n",
       "      <th>2</th>\n",
       "      <td>0.742588</td>\n",
       "      <td>-1.418968</td>\n",
       "      <td>0.190066</td>\n",
       "      <td>-0.056231</td>\n",
       "      <td>-0.241676</td>\n",
       "      <td>-0.274001</td>\n",
       "      <td>-0.211583</td>\n",
       "      <td>-0.139071</td>\n",
       "      <td>0.742555</td>\n",
       "      <td>0.0</td>\n",
       "      <td>0.297417</td>\n",
       "      <td>-0.421452</td>\n",
       "      <td>-0.940243</td>\n",
       "      <td>2</td>\n",
       "      <td>-0.852440</td>\n",
       "      <td>-0.940230</td>\n",
       "      <td>-0.873920</td>\n",
       "      <td>-0.796538</td>\n",
       "    </tr>\n",
       "    <tr>\n",
       "      <th>3</th>\n",
       "      <td>1.870643</td>\n",
       "      <td>1.727888</td>\n",
       "      <td>0.421216</td>\n",
       "      <td>0.587597</td>\n",
       "      <td>-0.186553</td>\n",
       "      <td>-0.140538</td>\n",
       "      <td>0.017700</td>\n",
       "      <td>-0.005492</td>\n",
       "      <td>1.870732</td>\n",
       "      <td>0.0</td>\n",
       "      <td>-0.960351</td>\n",
       "      <td>-0.993643</td>\n",
       "      <td>0.421197</td>\n",
       "      <td>2</td>\n",
       "      <td>-0.852325</td>\n",
       "      <td>0.421189</td>\n",
       "      <td>0.488949</td>\n",
       "      <td>0.458942</td>\n",
       "    </tr>\n",
       "    <tr>\n",
       "      <th>4</th>\n",
       "      <td>1.644996</td>\n",
       "      <td>1.803823</td>\n",
       "      <td>-1.075539</td>\n",
       "      <td>1.208900</td>\n",
       "      <td>0.463576</td>\n",
       "      <td>0.698517</td>\n",
       "      <td>0.914775</td>\n",
       "      <td>0.882265</td>\n",
       "      <td>1.644894</td>\n",
       "      <td>0.0</td>\n",
       "      <td>0.926301</td>\n",
       "      <td>0.682061</td>\n",
       "      <td>-0.323588</td>\n",
       "      <td>2</td>\n",
       "      <td>-0.853049</td>\n",
       "      <td>-0.323567</td>\n",
       "      <td>0.114132</td>\n",
       "      <td>-0.994771</td>\n",
       "    </tr>\n",
       "  </tbody>\n",
       "</table>\n",
       "</div>"
      ],
      "text/plain": [
       "     obj_ID     alpha     delta         u         g         r         i  \\\n",
       "0  1.842794  1.678562 -0.189957  0.730051  1.412983  0.900283  0.608321   \n",
       "1  1.675764 -1.582285 -0.653837 -0.181271  0.330100  0.684916  0.809094   \n",
       "2  0.742588 -1.418968  0.190066 -0.056231 -0.241676 -0.274001 -0.211583   \n",
       "3  1.870643  1.727888  0.421216  0.587597 -0.186553 -0.140538  0.017700   \n",
       "4  1.644996  1.803823 -1.075539  1.208900  0.463576  0.698517  0.914775   \n",
       "\n",
       "          z    run_ID  rerun_ID   cam_col  field_ID  spec_obj_ID  class  \\\n",
       "0  0.358271  1.842820       0.0 -0.331467 -0.503193    -0.074397      1   \n",
       "1  0.849514  1.675851       0.0 -0.960351  1.894562     1.951910      1   \n",
       "2 -0.139071  0.742555       0.0  0.297417 -0.421452    -0.940243      2   \n",
       "3 -0.005492  1.870732       0.0 -0.960351 -0.993643     0.421197      2   \n",
       "4  0.882265  1.644894       0.0  0.926301  0.682061    -0.323588      2   \n",
       "\n",
       "   redshift     plate       MJD  fiber_ID  \n",
       "0  1.208208 -0.074421  0.109142  1.071997  \n",
       "1 -0.004177  1.951948  1.551299 -1.233386  \n",
       "2 -0.852440 -0.940230 -0.873920 -0.796538  \n",
       "3 -0.852325  0.421189  0.488949  0.458942  \n",
       "4 -0.853049 -0.323567  0.114132 -0.994771  "
      ]
     },
     "execution_count": 2,
     "metadata": {},
     "output_type": "execute_result"
    }
   ],
   "source": [
    "data = pd.read_csv('data_star.csv')\n",
    "data.head()"
   ]
  },
  {
   "cell_type": "code",
   "execution_count": 3,
   "metadata": {},
   "outputs": [],
   "source": [
    "X = data.drop(labels=['class'],axis=1)\n",
    "y = data['class']"
   ]
  },
  {
   "cell_type": "code",
   "execution_count": 4,
   "metadata": {},
   "outputs": [],
   "source": [
    "# PCA\n",
    "from sklearn.decomposition import PCA\n",
    "pca = PCA(n_components=12)\n",
    "X = pca.fit_transform(X)"
   ]
  },
  {
   "cell_type": "code",
   "execution_count": 5,
   "metadata": {},
   "outputs": [
    {
     "data": {
      "text/plain": [
       "(tensor([[-2.1566,  1.8858,  0.2564, -2.0829, -0.2722,  1.0747,  1.0373, -0.5046,\n",
       "           0.7159,  0.6177, -0.6187, -0.1081],\n",
       "         [-2.8937,  2.6210, -0.4013,  2.4907,  1.4968, -0.7737, -0.2777,  1.2912,\n",
       "          -0.0525, -0.5826, -0.0252,  0.2450],\n",
       "         [ 1.3644,  0.9952,  0.9485, -0.0967,  0.0874, -0.4827, -1.4682, -0.1757,\n",
       "           1.0385, -0.4812,  0.1117, -0.0340],\n",
       "         [-0.8143,  2.1672, -1.2757, -2.3160,  0.4075, -0.6764,  0.7916,  0.0345,\n",
       "           0.2877, -0.2648,  0.4717,  0.0988],\n",
       "         [-1.2334,  2.1352,  1.4537, -1.8244, -0.3299,  0.6656,  0.0812,  1.9185,\n",
       "          -0.5341, -0.6298,  0.5729, -0.1900]]),\n",
       " tensor([1, 1, 2, 2, 2]))"
      ]
     },
     "execution_count": 5,
     "metadata": {},
     "output_type": "execute_result"
    }
   ],
   "source": [
    "# Convert data to tensor\n",
    "X = torch.tensor(X).to(torch.float32).squeeze()\n",
    "y = torch.tensor(y).to(torch.long)\n",
    "X[:5],y[:5]"
   ]
  },
  {
   "cell_type": "code",
   "execution_count": 6,
   "metadata": {},
   "outputs": [
    {
     "data": {
      "text/plain": [
       "(torch.Size([70277, 12]), torch.Size([70277]))"
      ]
     },
     "execution_count": 6,
     "metadata": {},
     "output_type": "execute_result"
    }
   ],
   "source": [
    "X.shape, y.shape"
   ]
  },
  {
   "cell_type": "code",
   "execution_count": 7,
   "metadata": {},
   "outputs": [],
   "source": [
    "from sklearn.model_selection import train_test_split\n",
    "X_test, X_train, y_test, y_train = train_test_split(X, y, test_size=0.2, random_state=21)"
   ]
  },
  {
   "cell_type": "code",
   "execution_count": 8,
   "metadata": {},
   "outputs": [],
   "source": [
    "class ModuleClassification(nn.Module):\n",
    "    def __init__(self,input_fearures,output_features,hidden_units = 32):\n",
    "        super().__init__()\n",
    "        self.stackLayers = nn.Sequential(\n",
    "            nn.Linear(input_fearures,hidden_units),\n",
    "            nn.ReLU(),\n",
    "            nn.Linear(hidden_units,hidden_units),\n",
    "            nn.ReLU(),\n",
    "            nn.Linear(hidden_units,output_features)\n",
    "        )\n",
    "    def forward(self,x):\n",
    "        return self.stackLayers(x)"
   ]
  },
  {
   "cell_type": "code",
   "execution_count": 9,
   "metadata": {},
   "outputs": [
    {
     "data": {
      "text/plain": [
       "device(type='cpu')"
      ]
     },
     "execution_count": 9,
     "metadata": {},
     "output_type": "execute_result"
    }
   ],
   "source": [
    "# Change device\n",
    "device = torch.device('cuda' if torch.cuda.is_available() else 'cpu')\n",
    "device"
   ]
  },
  {
   "cell_type": "code",
   "execution_count": 10,
   "metadata": {},
   "outputs": [],
   "source": [
    "# Creat model\n",
    "model = ModuleClassification(input_fearures=12,output_features=3).to(device=device)\n",
    "# Create loss function and optimizer\n",
    "loss_function = nn.CrossEntropyLoss()\n",
    "# Create optimizer\n",
    "optimizer = torch.optim.SGD(model.parameters(),lr=0.01)"
   ]
  },
  {
   "cell_type": "code",
   "execution_count": 11,
   "metadata": {},
   "outputs": [
    {
     "name": "stdout",
     "output_type": "stream",
     "text": [
      "Epoch 0|Loss: 1.0962|Acc: 30.8978%|Acc test: 31.0685%\n",
      "Epoch 1000|Loss: 0.5250|Acc: 82.5555%|Acc test: 82.5848%\n",
      "Epoch 2000|Loss: 0.2870|Acc: 91.7260%|Acc test: 91.5032%\n",
      "Epoch 3000|Loss: 0.2244|Acc: 93.0990%|Acc test: 93.2392%\n",
      "Epoch 4000|Loss: 0.1974|Acc: 94.0026%|Acc test: 93.9862%\n"
     ]
    }
   ],
   "source": [
    "# Convert data to device\n",
    "X_train = X_train.to(device)\n",
    "X_test = X_test.to(device)\n",
    "y_train = y_train.to(device)\n",
    "y_test = y_test.to(device)\n",
    "# Create trainning loop\n",
    "torch.manual_seed(21)\n",
    "epochs = 5000\n",
    "\n",
    "for epoch in range(epochs):\n",
    "    model.train()\n",
    "    # Trainning\n",
    "    y_logist = model(X_train)\n",
    "    y_pred = torch.softmax(y_logist,dim=1).argmax(dim=1)\n",
    "    # Calculate accuraccy\n",
    "    acc = torchmetrics.functional.accuracy(y_pred,y_train)\n",
    "    # Caculate loss\n",
    "    loss = loss_function(y_logist,y_train)\n",
    "    # Zero grad\n",
    "    optimizer.zero_grad()\n",
    "    # Backward\n",
    "    loss.backward()\n",
    "    # Update weight\n",
    "    optimizer.step()\n",
    "    \n",
    "    # Evaluation\n",
    "    model.eval()\n",
    "\n",
    "    if epoch % 1000 == 0:\n",
    "        y_logist_test = model(X_test)\n",
    "        y_pred_test = torch.softmax(y_logist_test,dim=1).argmax(dim=1)\n",
    "        acc_test = torchmetrics.functional.accuracy(y_pred_test,y_test)\n",
    "        print(f'Epoch {epoch}|Loss: {loss.item():.4f}|Acc: {acc.item() * 100:.4f}%|Acc test: {acc_test.item()*100:.4f}%')\n",
    "        "
   ]
  },
  {
   "cell_type": "code",
   "execution_count": 12,
   "metadata": {},
   "outputs": [
    {
     "name": "stdout",
     "output_type": "stream",
     "text": [
      "              precision    recall  f1-score   support\n",
      "\n",
      "           0       0.93      0.94      0.94     23746\n",
      "           1       0.96      0.91      0.94     15193\n",
      "           2       0.95      0.98      0.96     17282\n",
      "\n",
      "    accuracy                           0.94     56221\n",
      "   macro avg       0.95      0.94      0.95     56221\n",
      "weighted avg       0.94      0.94      0.94     56221\n",
      "\n"
     ]
    }
   ],
   "source": [
    "# Metrics\n",
    "from sklearn.metrics import classification_report\n",
    "y_logist_test = model(X_test)\n",
    "y_pred_test = torch.softmax(y_logist_test,dim=1).argmax(dim=1)\n",
    "print(classification_report(y_test.cpu(),y_pred_test.cpu()))"
   ]
  }
 ],
 "metadata": {
  "kernelspec": {
   "display_name": "Python 3.10.6 64-bit",
   "language": "python",
   "name": "python3"
  },
  "language_info": {
   "codemirror_mode": {
    "name": "ipython",
    "version": 3
   },
   "file_extension": ".py",
   "mimetype": "text/x-python",
   "name": "python",
   "nbconvert_exporter": "python",
   "pygments_lexer": "ipython3",
   "version": "3.10.6"
  },
  "orig_nbformat": 4,
  "vscode": {
   "interpreter": {
    "hash": "916dbcbb3f70747c44a77c7bcd40155683ae19c65e1c03b4aa3499c5328201f1"
   }
  }
 },
 "nbformat": 4,
 "nbformat_minor": 2
}
